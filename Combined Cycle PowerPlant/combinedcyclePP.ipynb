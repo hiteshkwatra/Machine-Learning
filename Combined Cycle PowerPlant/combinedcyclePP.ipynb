{
 "cells": [
  {
   "cell_type": "code",
   "execution_count": 1,
   "metadata": {
    "collapsed": true
   },
   "outputs": [],
   "source": [
    "import numpy as np\n",
    "import pandas as pd\n",
    "train= np.loadtxt(\"ccpptrain.csv\", delimiter=\",\")\n",
    "test=np.loadtxt(\"ccpptest.csv\", delimiter=\",\")"
   ]
  },
  {
   "cell_type": "code",
   "execution_count": 2,
   "metadata": {},
   "outputs": [],
   "source": [
    "df=pd.DataFrame(train[:,:4])\n",
    "d=pd.DataFrame(test)"
   ]
  },
  {
   "cell_type": "code",
   "execution_count": 3,
   "metadata": {},
   "outputs": [
    {
     "name": "stdout",
     "output_type": "stream",
     "text": [
      "[[ -1.47827466e+00  -1.24764165e+00   1.30221067e+00   7.58624590e-01]\n",
      " [  2.89012041e-01   3.06797549e-01   6.61749044e-01  -4.46921842e-01]\n",
      " [ -3.99975582e-01  -4.21012529e-01  -2.87207194e-01   3.75010552e-01]\n",
      " ..., \n",
      " [  1.36062192e+00   1.18048335e+00  -6.54382840e-01  -5.83682640e-01]\n",
      " [ -4.36097263e-01   9.29089763e-04   7.84140927e-01  -6.59584883e-01]\n",
      " [  1.40209496e+00   6.07960340e-01  -4.31394890e-01  -1.73110573e+00]]\n"
     ]
    }
   ],
   "source": [
    "from sklearn import preprocessing\n",
    "xscaled=preprocessing.scale(df)\n",
    "test=preprocessing.scale(d)\n",
    "print(xscaled)"
   ]
  },
  {
   "cell_type": "code",
   "execution_count": 4,
   "metadata": {},
   "outputs": [],
   "source": [
    "xtrain= xscaled\n",
    "xtrain=np.insert(xtrain,len(xtrain[0]), values=1, axis=1)\n",
    "ytrain= train[:,4]"
   ]
  },
  {
   "cell_type": "code",
   "execution_count": 5,
   "metadata": {},
   "outputs": [
    {
     "data": {
      "text/plain": [
       "(2392, 4)"
      ]
     },
     "execution_count": 5,
     "metadata": {},
     "output_type": "execute_result"
    }
   ],
   "source": [
    "test.shape"
   ]
  },
  {
   "cell_type": "code",
   "execution_count": 6,
   "metadata": {
    "collapsed": true
   },
   "outputs": [],
   "source": [
    "df= pd.DataFrame(ytrain)"
   ]
  },
  {
   "cell_type": "code",
   "execution_count": 7,
   "metadata": {
    "collapsed": true
   },
   "outputs": [],
   "source": [
    "\n",
    "def gGD(m,a,inp,outp):\n",
    "    mI_slope=np.zeros(len(inp[0]))\n",
    "    l=len(inp)\n",
    "    w = len(inp[0])\n",
    "    for i in range(l):\n",
    "        var = (-2/l)*(outp[i] - (m*inp[i]).sum())\n",
    "        for j in range(w):\n",
    "            mI_slope[j] += var*inp[i][j]\n",
    " \n",
    "    mI_slope= m - a*(mI_slope)\n",
    " \n",
    "    return  mI_slope"
   ]
  },
  {
   "cell_type": "code",
   "execution_count": 8,
   "metadata": {
    "collapsed": true
   },
   "outputs": [],
   "source": [
    "def predict(test,m):\n",
    "    l=len(test)\n",
    "    y=np.ones(l)\n",
    "    for i in range(l):\n",
    "        y[i]=(m[:len(m)-1]*test[i]).sum() + m[len(m)-1]\n",
    "    \n",
    "    return y"
   ]
  },
  {
   "cell_type": "code",
   "execution_count": 9,
   "metadata": {
    "collapsed": true
   },
   "outputs": [],
   "source": [
    "def cost(m,x,y):\n",
    "    cost=0\n",
    "    for i in range(len(x)):\n",
    "        cost += ((y-  ((m[:len(m)]*x[i]).sum() ))**2)\n",
    "    avrcost=cost/len(x)\n",
    "    return avrcost"
   ]
  },
  {
   "cell_type": "code",
   "execution_count": 17,
   "metadata": {
    "collapsed": true
   },
   "outputs": [],
   "source": [
    "def run(xtrain,ytrain,a):\n",
    "    m=np.zeros(len(xtrain[0]))\n",
    "    iterations=100\n",
    "    \n",
    "    for i in range(iterations):\n",
    "        m=gGD(m,a,xtrain,ytrain)\n",
    "        print(i)\n",
    "    \n",
    "    print(cost(m,xtrain,ytrain))\n",
    "    return m"
   ]
  },
  {
   "cell_type": "code",
   "execution_count": 11,
   "metadata": {
    "collapsed": true
   },
   "outputs": [],
   "source": [
    "def score(ypred,ytrue):\n",
    "    a= ((ytrue-ypred)**2).sum()\n",
    "    b= ((ytrue- ytrue.mean())**2).sum()\n",
    "    return 1- a/b"
   ]
  },
  {
   "cell_type": "code",
   "execution_count": 18,
   "metadata": {},
   "outputs": [
    {
     "name": "stdout",
     "output_type": "stream",
     "text": [
      "0\n",
      "1\n",
      "2\n",
      "3\n",
      "4\n",
      "5\n",
      "6\n",
      "7\n",
      "8\n",
      "9\n",
      "10\n",
      "11\n",
      "12\n",
      "13\n",
      "14\n",
      "15\n",
      "16\n",
      "17\n",
      "18\n",
      "19\n",
      "20\n",
      "21\n",
      "22\n",
      "23\n",
      "24\n",
      "25\n",
      "26\n",
      "27\n",
      "28\n",
      "29\n",
      "30\n",
      "31\n",
      "32\n",
      "33\n",
      "34\n",
      "35\n",
      "36\n",
      "37\n",
      "38\n",
      "39\n",
      "40\n",
      "41\n",
      "42\n",
      "43\n",
      "44\n",
      "45\n",
      "46\n",
      "47\n",
      "48\n",
      "49\n",
      "50\n",
      "51\n",
      "52\n",
      "53\n",
      "54\n",
      "55\n",
      "56\n",
      "57\n",
      "58\n",
      "59\n",
      "60\n",
      "61\n",
      "62\n",
      "63\n",
      "64\n",
      "65\n",
      "66\n",
      "67\n",
      "68\n",
      "69\n",
      "70\n",
      "71\n",
      "72\n",
      "73\n",
      "74\n",
      "75\n",
      "76\n",
      "77\n",
      "78\n",
      "79\n",
      "80\n",
      "81\n",
      "82\n",
      "83\n",
      "84\n",
      "85\n",
      "86\n",
      "87\n",
      "88\n",
      "89\n",
      "90\n",
      "91\n",
      "92\n",
      "93\n",
      "94\n",
      "95\n",
      "96\n",
      "97\n",
      "98\n",
      "99\n",
      "[ 1046.11680642   327.79935804   275.18162248 ...,   553.29168569\n",
      "   302.35715726   371.90587577]\n"
     ]
    }
   ],
   "source": [
    "a=0.15\n",
    "m=run(xtrain,ytrain,a)\n"
   ]
  },
  {
   "cell_type": "code",
   "execution_count": 19,
   "metadata": {},
   "outputs": [
    {
     "data": {
      "text/plain": [
       "array([ -1.45438274e+01,  -3.15991037e+00,   4.16537608e-01,\n",
       "        -2.22528361e+00,   4.54431293e+02])"
      ]
     },
     "execution_count": 19,
     "metadata": {},
     "output_type": "execute_result"
    }
   ],
   "source": [
    "m"
   ]
  },
  {
   "cell_type": "code",
   "execution_count": 20,
   "metadata": {},
   "outputs": [],
   "source": [
    "y=predict(test,m)\n",
    "np.savetxt(\"cpr.csv\",y,fmt=\"%0.5f\")"
   ]
  }
 ],
 "metadata": {
  "kernelspec": {
   "display_name": "Python 3",
   "language": "python",
   "name": "python3"
  },
  "language_info": {
   "codemirror_mode": {
    "name": "ipython",
    "version": 3
   },
   "file_extension": ".py",
   "mimetype": "text/x-python",
   "name": "python",
   "nbconvert_exporter": "python",
   "pygments_lexer": "ipython3",
   "version": "3.6.3"
  }
 },
 "nbformat": 4,
 "nbformat_minor": 2
}
