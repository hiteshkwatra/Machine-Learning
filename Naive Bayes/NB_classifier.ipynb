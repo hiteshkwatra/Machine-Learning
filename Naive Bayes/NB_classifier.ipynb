{
 "cells": [
  {
   "cell_type": "code",
   "execution_count": 1,
   "metadata": {
    "collapsed": true
   },
   "outputs": [],
   "source": [
    "import numpy as np\n",
    "import pandas as pd\n",
    "import sklearn.datasets as Datasets\n",
    "from sklearn import model_selection"
   ]
  },
  {
   "cell_type": "code",
   "execution_count": 2,
   "metadata": {
    "collapsed": true
   },
   "outputs": [],
   "source": [
    "def fit(xtrain,ytrain):\n",
    "    res_dic={}\n",
    "    total_classes=set(ytrain)\n",
    "    res_dic[\"training_data_count\"]= len(ytrain)\n",
    "    for each_class in total_classes:\n",
    "        res_dic[each_class]= {}\n",
    "        data_needed= (each_class==ytrain)\n",
    "        current_xtrain = xtrain[data_needed]\n",
    "        current_ytrain = ytrain[data_needed]\n",
    "        total_features = xtrain.shape[1]\n",
    "        res_dic[each_class][\"total_class_count\"]=  data_needed.sum()\n",
    "        for j in range(1,total_features+1):\n",
    "            res_dic[each_class][j] = {}\n",
    "            distinct_class_in_feature = set(xtrain[:,j-1])\n",
    "            for current_value in  distinct_class_in_feature:\n",
    "                res_dic[each_class][j][current_value] = (current_xtrain[:,j-1]==current_value).sum()\n",
    "    return res_dic"
   ]
  },
  {
   "cell_type": "code",
   "execution_count": 3,
   "metadata": {
    "collapsed": true
   },
   "outputs": [],
   "source": [
    "def probablity(dic,x,current_class):\n",
    "\n",
    "    output=np.log(dic[current_class][\"total_class_count\"]) - np.log(dic[\"training_data_count\"])\n",
    "    number_of_features= len(dic[current_class].keys()) -1\n",
    "    for j in range(1,number_of_features+1):\n",
    "        xj=x[j-1]\n",
    "        count_of_current_class_with_feature_xj= dic[current_class][j][xj] +1\n",
    "        count_of_data_in_current_class= dic[current_class][\"total_class_count\"] + len(dic[current_class][j].keys())\n",
    "        current_xj_pro= np.log(count_of_current_class_with_feature_xj) -np.log( count_of_data_in_current_class)\n",
    "        output= output+ current_xj_pro\n",
    "    return output\n",
    "        "
   ]
  },
  {
   "cell_type": "code",
   "execution_count": null,
   "metadata": {
    "collapsed": true
   },
   "outputs": [],
   "source": []
  },
  {
   "cell_type": "code",
   "execution_count": 16,
   "metadata": {
    "collapsed": true
   },
   "outputs": [],
   "source": [
    "def predict_one(dic,x):\n",
    "    best_prob=-1000\n",
    "    best_class=-1\n",
    "    a=True\n",
    "    for current in dic.keys():\n",
    "    \n",
    "        if current==\"training_data_count\":\n",
    "            continue\n",
    "        \n",
    "        prob_for_given_class= probablity(dic,x,current)\n",
    "        \n",
    "        if a or prob_for_given_class >best_prob:\n",
    "        \n",
    "            best_prob=prob_for_given_class\n",
    "            best_class= current\n",
    "            a=False\n",
    "  \n",
    "    return best_class"
   ]
  },
  {
   "cell_type": "code",
   "execution_count": 5,
   "metadata": {
    "collapsed": true
   },
   "outputs": [],
   "source": [
    "def predict(dic,xtest):\n",
    "    \n",
    "    ypred=[]\n",
    "    for x in xtest:\n",
    "        y=predict_one(dic,x)\n",
    "        ypred.append(y)\n",
    "        \n",
    "    return ypred\n"
   ]
  },
  {
   "cell_type": "code",
   "execution_count": 6,
   "metadata": {
    "collapsed": true
   },
   "outputs": [],
   "source": [
    "def makeLabelled(column):\n",
    "    mean = column.mean()\n",
    "    second_lim= mean\n",
    "    first_lim= 0.5*mean\n",
    "    third_lim= 1.5*mean\n",
    "    \n",
    "    for i in range (0,len(column)):\n",
    "        if column[i]< first_lim:\n",
    "            column[i]=0\n",
    "        elif column[i]<second_lim:\n",
    "            column[i]=1\n",
    "        elif column[i]<third_lim:\n",
    "            column[i]=2\n",
    "        else:\n",
    "            column[i]=3\n",
    "            \n",
    "            \n",
    "    return column"
   ]
  },
  {
   "cell_type": "code",
   "execution_count": 7,
   "metadata": {
    "collapsed": true
   },
   "outputs": [],
   "source": [
    "iris = Datasets.load_iris()\n",
    "df = pd.DataFrame(iris.data)\n",
    "\n",
    "X = df.values\n",
    "Y = iris.target\n",
    "\n",
    "for i in range(0,X.shape[-1]):\n",
    "    X[:,i] = makeLabelled(X[:,i])"
   ]
  },
  {
   "cell_type": "code",
   "execution_count": 8,
   "metadata": {
    "collapsed": true
   },
   "outputs": [],
   "source": [
    "xtrain,xtest,ytrain,ytest=model_selection.train_test_split(X,Y,test_size=0.25,random_state=3\n",
    "                                                          \n",
    "                                                          )"
   ]
  },
  {
   "cell_type": "code",
   "execution_count": 9,
   "metadata": {},
   "outputs": [
    {
     "data": {
      "text/plain": [
       "array([2, 1, 2, 1, 0, 0, 2, 1, 0, 1, 2, 1, 0, 0, 2, 1, 1, 0, 2, 0, 2, 1, 0,\n",
       "       0, 2, 1, 0, 0, 1, 2, 2, 0, 2, 1, 0, 0, 2, 2, 2, 1, 1, 1, 0, 0, 2, 2,\n",
       "       1, 2, 1, 2, 0, 2, 0, 1, 1, 2, 2, 0, 1, 0, 1, 1, 1, 0, 2, 0, 2, 1, 2,\n",
       "       1, 2, 1, 0, 2, 1, 2, 1, 0, 1, 2, 0, 1, 0, 0, 0, 1, 2, 0, 0, 2, 0, 1,\n",
       "       2, 1, 2, 2, 1, 1, 2, 1, 0, 1, 1, 0, 1, 2, 2, 2, 0, 0, 2, 2])"
      ]
     },
     "execution_count": 9,
     "metadata": {},
     "output_type": "execute_result"
    }
   ],
   "source": [
    "dictionary=fit(xtrain,ytrain)\n",
    "ytrain"
   ]
  },
  {
   "cell_type": "code",
   "execution_count": 10,
   "metadata": {},
   "outputs": [
    {
     "data": {
      "text/plain": [
       "int"
      ]
     },
     "execution_count": 10,
     "metadata": {},
     "output_type": "execute_result"
    }
   ],
   "source": [
    "type(dictionary[\"training_data_count\"])"
   ]
  },
  {
   "cell_type": "code",
   "execution_count": 15,
   "metadata": {},
   "outputs": [
    {
     "name": "stdout",
     "output_type": "stream",
     "text": [
      "-1.55215896312 -1000\n",
      "going\n",
      "-1.55215896312 -1000\n",
      "going\n",
      "-1.55215896312 -1000\n",
      "going\n",
      "-3.40845695348 -1000\n",
      "going\n",
      "-1.55215896312 -1000\n",
      "going\n",
      "-14.1026720149 -1000\n",
      "-8.69983367661 -14.1026720149\n",
      "-2.73656437996 -8.69983367661\n",
      "going\n",
      "-10.5191530765 -1000\n",
      "-2.5953593726 -10.5191530765\n",
      "going\n",
      "-1.55215896312 -1000\n",
      "going\n",
      "-14.1026720149 -1000\n",
      "-5.20332611515 -14.1026720149\n",
      "-2.39172389366 -5.20332611515\n",
      "going\n",
      "-12.2463740246 -1000\n",
      "-4.04587332646 -12.2463740246\n",
      "going\n",
      "-10.5191530765 -1000\n",
      "-2.5953593726 -10.5191530765\n",
      "going\n",
      "-3.40845695348 -1000\n",
      "going\n",
      "-10.5191530765 -1000\n",
      "-2.5953593726 -10.5191530765\n",
      "going\n",
      "-10.5191530765 -1000\n",
      "-2.5953593726 -10.5191530765\n",
      "going\n",
      "-12.2463740246 -1000\n",
      "-6.75392352756 -12.2463740246\n",
      "-3.04850343005 -6.75392352756\n",
      "going\n",
      "-1.55215896312 -1000\n",
      "going\n",
      "-14.1026720149 -1000\n",
      "-2.49527591404 -14.1026720149\n",
      "going\n",
      "-14.1026720149 -1000\n",
      "-8.69983367661 -14.1026720149\n",
      "-2.73656437996 -8.69983367661\n",
      "going\n",
      "-10.5191530765 -1000\n",
      "-5.3034095737 -10.5191530765\n",
      "-4.15531248592 -5.3034095737\n",
      "going\n",
      "-1.55215896312 -1000\n",
      "going\n",
      "-14.1026720149 -1000\n",
      "-5.20332611515 -14.1026720149\n",
      "-2.39172389366 -5.20332611515\n",
      "going\n",
      "-14.1026720149 -1000\n",
      "-5.20332611515 -14.1026720149\n",
      "-2.39172389366 -5.20332611515\n",
      "going\n",
      "-12.2463740246 -1000\n",
      "-6.75392352756 -12.2463740246\n",
      "-3.04850343005 -6.75392352756\n",
      "going\n",
      "-14.1026720149 -1000\n",
      "-2.49527591404 -14.1026720149\n",
      "going\n",
      "-1.55215896312 -1000\n",
      "going\n",
      "-12.2463740246 -1000\n",
      "-10.250431089 -12.2463740246\n",
      "-3.39334391634 -10.250431089\n",
      "going\n",
      "-14.1026720149 -1000\n",
      "-2.49527591404 -14.1026720149\n",
      "going\n",
      "-9.8260058959 -1000\n",
      "-3.79933217693 -9.8260058959\n",
      "going\n",
      "-9.13285871534 -1000\n",
      "-5.34992958934 -9.13285871534\n",
      "going\n",
      "-12.2463740246 -1000\n",
      "-4.04587332646 -12.2463740246\n",
      "going\n",
      "-1.55215896312 -1000\n",
      "going\n",
      "-4.41435984405 -1000\n",
      "going\n",
      "-12.2463740246 -1000\n",
      "-6.75392352756 -12.2463740246\n",
      "-3.04850343005 -6.75392352756\n",
      "going\n",
      "-14.1026720149 -1000\n",
      "-2.49527591404 -14.1026720149\n",
      "going\n",
      "-3.40845695348 -1000\n",
      "going\n",
      "-1.55215896312 -1000\n",
      "going\n",
      "-14.1026720149 -1000\n",
      "-2.49527591404 -14.1026720149\n",
      "going\n",
      "-3.40845695348 -1000\n",
      "going\n"
     ]
    }
   ],
   "source": [
    "ypred=predict(dictionary,xtest)"
   ]
  },
  {
   "cell_type": "code",
   "execution_count": 12,
   "metadata": {
    "collapsed": true
   },
   "outputs": [],
   "source": [
    "from sklearn.metrics import classification_report, confusion_matrix"
   ]
  },
  {
   "cell_type": "code",
   "execution_count": 13,
   "metadata": {},
   "outputs": [
    {
     "name": "stdout",
     "output_type": "stream",
     "text": [
      "             precision    recall  f1-score   support\n",
      "\n",
      "          0       1.00      1.00      1.00        15\n",
      "          1       0.92      1.00      0.96        12\n",
      "          2       1.00      0.91      0.95        11\n",
      "\n",
      "avg / total       0.98      0.97      0.97        38\n",
      "\n",
      "[[15  0  0]\n",
      " [ 0 12  0]\n",
      " [ 0  1 10]]\n"
     ]
    }
   ],
   "source": [
    "print(classification_report(ytest,ypred))\n",
    "print(confusion_matrix(ytest,ypred))"
   ]
  },
  {
   "cell_type": "code",
   "execution_count": null,
   "metadata": {},
   "outputs": [],
   "source": []
  }
 ],
 "metadata": {
  "kernelspec": {
   "display_name": "Python 3",
   "language": "python",
   "name": "python3"
  },
  "language_info": {
   "codemirror_mode": {
    "name": "ipython",
    "version": 3
   },
   "file_extension": ".py",
   "mimetype": "text/x-python",
   "name": "python",
   "nbconvert_exporter": "python",
   "pygments_lexer": "ipython3",
   "version": "3.6.3"
  }
 },
 "nbformat": 4,
 "nbformat_minor": 2
}
